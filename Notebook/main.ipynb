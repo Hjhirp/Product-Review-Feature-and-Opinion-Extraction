{
  "nbformat": 4,
  "nbformat_minor": 0,
  "metadata": {
    "colab": {
      "provenance": [],
      "authorship_tag": "ABX9TyNHt12XYeJ/+L7umzm0lORl",
      "include_colab_link": true
    },
    "kernelspec": {
      "name": "python3",
      "display_name": "Python 3"
    },
    "language_info": {
      "name": "python"
    }
  },
  "cells": [
    {
      "cell_type": "markdown",
      "metadata": {
        "id": "view-in-github",
        "colab_type": "text"
      },
      "source": [
        "<a href=\"https://colab.research.google.com/github/Hjhirp/Product-Review-Feature-and-Opinion-Extraction/blob/main/Notebook/main.ipynb\" target=\"_parent\"><img src=\"https://colab.research.google.com/assets/colab-badge.svg\" alt=\"Open In Colab\"/></a>"
      ]
    },
    {
      "cell_type": "code",
      "execution_count": null,
      "metadata": {
        "id": "-zMSbhhV8UuK"
      },
      "outputs": [],
      "source": [
        "# Extract feature and opinion from product review and apply recall and precision"
      ]
    },
    {
      "cell_type": "code",
      "source": [
        "txt = '''\n",
        "This product so far has not disappointed.\n",
        "great for beginner or experienced person. Bought as a gift and she loves it\n",
        "Inexpensive tablet for him to use and learn on, step up from the NABI.\n",
        "I've had my Fire HD 8 two weeks now and I love it. This tablet is a great value.\n",
        "I bought this for my grand daughter when she comes over to visit.\n",
        "This amazon fire 8 inch tablet is the perfect size.\n",
        "'''"
      ],
      "metadata": {
        "id": "D-T2F_ya8g29"
      },
      "execution_count": null,
      "outputs": []
    },
    {
      "cell_type": "code",
      "source": [
        "import pandas as pd\n",
        "import numpy as np\n",
        "import nltk\n",
        "from nltk.tokenize import word_tokenize\n",
        "from nltk.corpus import stopwords\n",
        "from nltk import pos_tag"
      ],
      "metadata": {
        "id": "fQ8rsclQ8_jk"
      },
      "execution_count": null,
      "outputs": []
    },
    {
      "cell_type": "markdown",
      "source": [
        "## DATASET GENERATION"
      ],
      "metadata": {
        "id": "tQGZho0iPF1S"
      }
    },
    {
      "cell_type": "code",
      "source": [
        "dataset = ['This product product product so far has not disappointed.','ambience ambience ambience is excellent','great for beginner or experienced person. Bought Bought Bought as a gift and she loves it.','Inexpensive tablet tablet tablet for him to use and learn on, step up from the NABI.','I have had my Fire HD 8 two weeks now and I love it. This tablet is a great value.','I bought this for my grand daughter daughter daughter when she comes over to visit.','This amazon fire 8 inch tablet is the perfect size.']"
      ],
      "metadata": {
        "id": "uyLKeqbV9IAb"
      },
      "execution_count": null,
      "outputs": []
    },
    {
      "cell_type": "markdown",
      "source": [
        "## TOKENIZATION"
      ],
      "metadata": {
        "id": "ovrVoOGdPIsx"
      }
    },
    {
      "cell_type": "code",
      "source": [
        "nltk.download('punkt')\n",
        "tokens = []\n",
        "for i in dataset:\n",
        "  tokenized_data = word_tokenize(i)\n",
        "  tokens.append(tokenized_data)"
      ],
      "metadata": {
        "colab": {
          "base_uri": "https://localhost:8080/"
        },
        "id": "HfDBxmz191uG",
        "outputId": "fca5c1f0-eb4f-4e55-c438-eb257c8f19f8"
      },
      "execution_count": null,
      "outputs": [
        {
          "output_type": "stream",
          "name": "stdout",
          "text": [
            "[nltk_data] Downloading package punkt to /root/nltk_data...\n",
            "[nltk_data]   Package punkt is already up-to-date!\n"
          ]
        }
      ]
    },
    {
      "cell_type": "code",
      "source": [
        "nltk.download('stopwords')\n",
        "stwords = stopwords.words('english')"
      ],
      "metadata": {
        "colab": {
          "base_uri": "https://localhost:8080/"
        },
        "id": "kQIhNNrt-HZj",
        "outputId": "d16f581f-6613-4f99-c037-adf288238d03"
      },
      "execution_count": null,
      "outputs": [
        {
          "output_type": "stream",
          "name": "stdout",
          "text": [
            "[nltk_data] Downloading package stopwords to /root/nltk_data...\n",
            "[nltk_data]   Package stopwords is already up-to-date!\n"
          ]
        }
      ]
    },
    {
      "cell_type": "markdown",
      "source": [
        "## POSITION TAGGING"
      ],
      "metadata": {
        "id": "MjcRwEYUPMgy"
      }
    },
    {
      "cell_type": "code",
      "source": [
        "tokens2 = []\n",
        "for words in tokens:\n",
        "  temp = []\n",
        "  for x in words:\n",
        "    if x not in stwords and len(x)>2:\n",
        "       temp.append(x)\n",
        "  tokens2.append(pos_tag(temp))"
      ],
      "metadata": {
        "id": "AqPQqCKm-YQj"
      },
      "execution_count": null,
      "outputs": []
    },
    {
      "cell_type": "code",
      "source": [
        "tokens2"
      ],
      "metadata": {
        "colab": {
          "base_uri": "https://localhost:8080/"
        },
        "id": "zKDhfmIFQFQj",
        "outputId": "8127a20f-4cb8-4cf7-8e38-86a859f16a75"
      },
      "execution_count": null,
      "outputs": [
        {
          "output_type": "execute_result",
          "data": {
            "text/plain": [
              "[[('This', 'DT'),\n",
              "  ('product', 'NN'),\n",
              "  ('product', 'NN'),\n",
              "  ('product', 'NN'),\n",
              "  ('far', 'RB'),\n",
              "  ('disappointed', 'JJ')],\n",
              " [('ambience', 'NN'),\n",
              "  ('ambience', 'NN'),\n",
              "  ('ambience', 'NN'),\n",
              "  ('excellent', 'NN')],\n",
              " [('great', 'JJ'),\n",
              "  ('beginner', 'NN'),\n",
              "  ('experienced', 'VBD'),\n",
              "  ('person', 'NN'),\n",
              "  ('Bought', 'NNP'),\n",
              "  ('Bought', 'NNP'),\n",
              "  ('Bought', 'NNP'),\n",
              "  ('gift', 'NN'),\n",
              "  ('loves', 'NNS')],\n",
              " [('Inexpensive', 'JJ'),\n",
              "  ('tablet', 'NN'),\n",
              "  ('tablet', 'NN'),\n",
              "  ('tablet', 'NN'),\n",
              "  ('use', 'NN'),\n",
              "  ('learn', 'JJ'),\n",
              "  ('step', 'NN'),\n",
              "  ('NABI', 'NNP')],\n",
              " [('Fire', 'NNP'),\n",
              "  ('two', 'CD'),\n",
              "  ('weeks', 'NNS'),\n",
              "  ('love', 'VBP'),\n",
              "  ('This', 'DT'),\n",
              "  ('tablet', 'NN'),\n",
              "  ('great', 'JJ'),\n",
              "  ('value', 'NN')],\n",
              " [('bought', 'VBN'),\n",
              "  ('grand', 'JJ'),\n",
              "  ('daughter', 'NN'),\n",
              "  ('daughter', 'NN'),\n",
              "  ('daughter', 'NN'),\n",
              "  ('comes', 'VBZ'),\n",
              "  ('visit', 'NN')],\n",
              " [('This', 'DT'),\n",
              "  ('amazon', 'NN'),\n",
              "  ('fire', 'NN'),\n",
              "  ('inch', 'NN'),\n",
              "  ('tablet', 'NN'),\n",
              "  ('perfect', 'JJ'),\n",
              "  ('size', 'NN')]]"
            ]
          },
          "metadata": {},
          "execution_count": 182
        }
      ]
    },
    {
      "cell_type": "markdown",
      "source": [
        "## NOUN MINING"
      ],
      "metadata": {
        "id": "nLmt6eUsPP8M"
      }
    },
    {
      "cell_type": "code",
      "source": [
        "noun_list = []\n",
        "for words in tokens2:\n",
        "  temp=[]\n",
        "  for word in words:\n",
        "      if word[1] == 'NN' or word[1]== 'NNP':\n",
        "          temp.append(word)\n",
        "  noun_list.append(temp)"
      ],
      "metadata": {
        "id": "2N9Q247K-wJe"
      },
      "execution_count": null,
      "outputs": []
    },
    {
      "cell_type": "code",
      "source": [
        "noun_list"
      ],
      "metadata": {
        "colab": {
          "base_uri": "https://localhost:8080/"
        },
        "id": "-XSVQs02-xlz",
        "outputId": "e849dbe8-d937-4b07-e959-6acd41caf661"
      },
      "execution_count": null,
      "outputs": [
        {
          "output_type": "execute_result",
          "data": {
            "text/plain": [
              "[[('product', 'NN'), ('product', 'NN'), ('product', 'NN')],\n",
              " [('ambience', 'NN'),\n",
              "  ('ambience', 'NN'),\n",
              "  ('ambience', 'NN'),\n",
              "  ('excellent', 'NN')],\n",
              " [('beginner', 'NN'),\n",
              "  ('person', 'NN'),\n",
              "  ('Bought', 'NNP'),\n",
              "  ('Bought', 'NNP'),\n",
              "  ('Bought', 'NNP'),\n",
              "  ('gift', 'NN')],\n",
              " [('tablet', 'NN'),\n",
              "  ('tablet', 'NN'),\n",
              "  ('tablet', 'NN'),\n",
              "  ('use', 'NN'),\n",
              "  ('step', 'NN'),\n",
              "  ('NABI', 'NNP')],\n",
              " [('Fire', 'NNP'), ('tablet', 'NN'), ('value', 'NN')],\n",
              " [('daughter', 'NN'), ('daughter', 'NN'), ('daughter', 'NN'), ('visit', 'NN')],\n",
              " [('amazon', 'NN'),\n",
              "  ('fire', 'NN'),\n",
              "  ('inch', 'NN'),\n",
              "  ('tablet', 'NN'),\n",
              "  ('size', 'NN')]]"
            ]
          },
          "metadata": {},
          "execution_count": 184
        }
      ]
    },
    {
      "cell_type": "markdown",
      "source": [
        "## NOUN FREQUENCY MINING"
      ],
      "metadata": {
        "id": "kdm1IkXLPUpa"
      }
    },
    {
      "cell_type": "code",
      "source": [
        "count = {}\n",
        "k = 1\n",
        "for i in noun_list:\n",
        "  temp = {}\n",
        "  for j in i:\n",
        "      temp[j[0]] = 0\n",
        "  count['D'+str(k)] = temp\n",
        "  k+=1"
      ],
      "metadata": {
        "id": "qp4LdmUc_RUr"
      },
      "execution_count": null,
      "outputs": []
    },
    {
      "cell_type": "code",
      "source": [
        "l=0\n",
        "for i, j in count.items():\n",
        "  for k,v in j.items():\n",
        "    j[k] = tokens[l].count(k)\n",
        "  l+=1"
      ],
      "metadata": {
        "id": "RpZP7w7sB3-K"
      },
      "execution_count": null,
      "outputs": []
    },
    {
      "cell_type": "code",
      "source": [
        "count"
      ],
      "metadata": {
        "colab": {
          "base_uri": "https://localhost:8080/"
        },
        "id": "2uCaXirpCTUr",
        "outputId": "94b2247f-70dc-40ca-f970-41d0f6ddb5bb"
      },
      "execution_count": null,
      "outputs": [
        {
          "output_type": "execute_result",
          "data": {
            "text/plain": [
              "{'D1': {'product': 3},\n",
              " 'D2': {'ambience': 3, 'excellent': 1},\n",
              " 'D3': {'Bought': 3, 'beginner': 1, 'gift': 1, 'person': 1},\n",
              " 'D4': {'NABI': 1, 'step': 1, 'tablet': 3, 'use': 1},\n",
              " 'D5': {'Fire': 1, 'tablet': 1, 'value': 1},\n",
              " 'D6': {'daughter': 3, 'visit': 1},\n",
              " 'D7': {'amazon': 1, 'fire': 1, 'inch': 1, 'size': 1, 'tablet': 1}}"
            ]
          },
          "metadata": {},
          "execution_count": 187
        }
      ]
    },
    {
      "cell_type": "markdown",
      "source": [
        "## FREQUENT NOUNS WITH THRESHOLD = 3"
      ],
      "metadata": {
        "id": "4AG8UFSFPah0"
      }
    },
    {
      "cell_type": "code",
      "source": [
        "list_ = []\n",
        "for i, j in count.items():\n",
        "  temp = []\n",
        "  temp.append(i)\n",
        "  for k,v in j.items():\n",
        "    if v >= 3:\n",
        "      temp.append(k)\n",
        "      print(k)\n",
        "  list_.append(temp)"
      ],
      "metadata": {
        "colab": {
          "base_uri": "https://localhost:8080/"
        },
        "id": "g_FC98RIDLJ7",
        "outputId": "3602d9db-5f0a-4a7e-81f2-1383cfabc21e"
      },
      "execution_count": null,
      "outputs": [
        {
          "output_type": "stream",
          "name": "stdout",
          "text": [
            "product\n",
            "ambience\n",
            "Bought\n",
            "tablet\n",
            "daughter\n"
          ]
        }
      ]
    },
    {
      "cell_type": "code",
      "source": [
        "list_"
      ],
      "metadata": {
        "colab": {
          "base_uri": "https://localhost:8080/"
        },
        "id": "XTLyXB05EqD7",
        "outputId": "0664bc42-c58a-435f-b949-6eab4715f2c2"
      },
      "execution_count": null,
      "outputs": [
        {
          "output_type": "execute_result",
          "data": {
            "text/plain": [
              "[['D1', 'product'],\n",
              " ['D2', 'ambience'],\n",
              " ['D3', 'Bought'],\n",
              " ['D4', 'tablet'],\n",
              " ['D5'],\n",
              " ['D6', 'daughter'],\n",
              " ['D7']]"
            ]
          },
          "metadata": {},
          "execution_count": 189
        }
      ]
    },
    {
      "cell_type": "markdown",
      "source": [
        "## NEAREST ADJECTIVE FINDING / OPINION"
      ],
      "metadata": {
        "id": "PMODky4rPhah"
      }
    },
    {
      "cell_type": "code",
      "source": [
        "next_adj = []\n",
        "l = 0\n",
        "for i in tokens2:\n",
        "  for word in i:\n",
        "    # print(word[0])\n",
        "    if word[0] in list_[l]:\n",
        "      x = 0\n",
        "      temp = []\n",
        "      temp.append(list_[l][0])\n",
        "      temp.append(word[0])\n",
        "      for k in i:\n",
        "        if k[1] == 'JJ' and x == 0:\n",
        "          temp.append(k[0])\n",
        "          x = 1\n",
        "  next_adj.append(temp)\n",
        "  l+=1"
      ],
      "metadata": {
        "id": "zQ18uE9DE-rC"
      },
      "execution_count": null,
      "outputs": []
    },
    {
      "cell_type": "code",
      "source": [
        "next_adj"
      ],
      "metadata": {
        "colab": {
          "base_uri": "https://localhost:8080/"
        },
        "id": "HnJFu88zFNer",
        "outputId": "2f7485a3-e8ad-4360-9e76-40466180b97b"
      },
      "execution_count": null,
      "outputs": [
        {
          "output_type": "execute_result",
          "data": {
            "text/plain": [
              "[['D1', 'product', 'disappointed'],\n",
              " ['D2', 'ambience'],\n",
              " ['D3', 'Bought', 'great'],\n",
              " ['D4', 'tablet', 'Inexpensive'],\n",
              " ['D4', 'tablet', 'Inexpensive'],\n",
              " ['D6', 'daughter', 'grand'],\n",
              " ['D6', 'daughter', 'grand']]"
            ]
          },
          "metadata": {},
          "execution_count": 191
        }
      ]
    },
    {
      "cell_type": "code",
      "source": [
        "next_adj_2 = []\n",
        "\n",
        "for i in next_adj:\n",
        "  if i not in next_adj_2:\n",
        "    next_adj_2.append(i)"
      ],
      "metadata": {
        "id": "15VOB6qnHjAr"
      },
      "execution_count": null,
      "outputs": []
    },
    {
      "cell_type": "markdown",
      "source": [
        "## FEATURE / OPINION PRINTING"
      ],
      "metadata": {
        "id": "JrFK3nopPr3h"
      }
    },
    {
      "cell_type": "code",
      "source": [
        "next_adj_2"
      ],
      "metadata": {
        "colab": {
          "base_uri": "https://localhost:8080/"
        },
        "id": "Pu-CKos7JzVa",
        "outputId": "dcc0ef57-da9c-424a-98c3-71ca85d7d498"
      },
      "execution_count": null,
      "outputs": [
        {
          "output_type": "execute_result",
          "data": {
            "text/plain": [
              "[['D1', 'product', 'disappointed'],\n",
              " ['D2', 'ambience'],\n",
              " ['D3', 'Bought', 'great'],\n",
              " ['D4', 'tablet', 'Inexpensive'],\n",
              " ['D6', 'daughter', 'grand']]"
            ]
          },
          "metadata": {},
          "execution_count": 193
        }
      ]
    },
    {
      "cell_type": "code",
      "source": [
        "print(len(list_))"
      ],
      "metadata": {
        "colab": {
          "base_uri": "https://localhost:8080/"
        },
        "id": "QDBKHq4iJ1OK",
        "outputId": "edf918bb-5d02-4dd6-cd13-bcd25fa9f9b8"
      },
      "execution_count": null,
      "outputs": [
        {
          "output_type": "stream",
          "name": "stdout",
          "text": [
            "7\n"
          ]
        }
      ]
    },
    {
      "cell_type": "markdown",
      "source": [
        "## PRECISION /RECALL"
      ],
      "metadata": {
        "id": "_pkR9n9WPwyk"
      }
    },
    {
      "cell_type": "code",
      "source": [
        "recall_thresh = 5\n",
        "\n",
        "precision_recall_dataset = []\n",
        "precision_recall_temp = []\n",
        "for i in list_:\n",
        "  precision_recall_temp.append(i[0])\n",
        "\n",
        "for i, j in zip(precision_recall_temp, next_adj):\n",
        "    if i == j[0]:\n",
        "      precision_recall_dataset.append([i,1])\n",
        "    else:\n",
        "      precision_recall_dataset.append([i,0])"
      ],
      "metadata": {
        "id": "6bD9MFX8KFGL"
      },
      "execution_count": null,
      "outputs": []
    },
    {
      "cell_type": "code",
      "source": [
        "precision_recall_dataset"
      ],
      "metadata": {
        "colab": {
          "base_uri": "https://localhost:8080/"
        },
        "id": "CxuV9akCLJNc",
        "outputId": "3a7c0df9-f30e-4c6c-925b-c416a74b09db"
      },
      "execution_count": null,
      "outputs": [
        {
          "output_type": "execute_result",
          "data": {
            "text/plain": [
              "[['D1', 1], ['D2', 1], ['D3', 1], ['D4', 1], ['D5', 0], ['D6', 1], ['D7', 0]]"
            ]
          },
          "metadata": {},
          "execution_count": 203
        }
      ]
    },
    {
      "cell_type": "code",
      "source": [
        "df = pd.DataFrame(precision_recall_dataset)\n",
        "df.columns = ['name', 'p_n']"
      ],
      "metadata": {
        "id": "nOTM-ibRLijJ"
      },
      "execution_count": null,
      "outputs": []
    },
    {
      "cell_type": "code",
      "source": [
        "precision = []\n",
        "\n",
        "count = 0\n",
        "positive_count= 0\n",
        "for i in df.p_n:\n",
        "  if i == 1:\n",
        "    positive_count+=1\n",
        "    count+=1\n",
        "    precision.append(positive_count/count)\n",
        "  else :\n",
        "    count+=1\n",
        "    precision.append(positive_count/count)\n",
        "\n",
        "df['precision'] = precision"
      ],
      "metadata": {
        "id": "5jgJLgMoL9G6"
      },
      "execution_count": null,
      "outputs": []
    },
    {
      "cell_type": "code",
      "source": [
        "df"
      ],
      "metadata": {
        "colab": {
          "base_uri": "https://localhost:8080/",
          "height": 269
        },
        "id": "1EcVKJnoL9uR",
        "outputId": "5c49b597-19d0-4edd-e381-967ec0c08734"
      },
      "execution_count": null,
      "outputs": [
        {
          "output_type": "execute_result",
          "data": {
            "text/plain": [
              "  name  p_n  precision\n",
              "0   D1    1   1.000000\n",
              "1   D2    1   1.000000\n",
              "2   D3    1   1.000000\n",
              "3   D4    1   1.000000\n",
              "4   D5    0   0.800000\n",
              "5   D6    1   0.833333\n",
              "6   D7    0   0.714286"
            ],
            "text/html": [
              "\n",
              "  <div id=\"df-f9fd6b3a-1adc-48ce-9469-4a53e2527ebf\">\n",
              "    <div class=\"colab-df-container\">\n",
              "      <div>\n",
              "<style scoped>\n",
              "    .dataframe tbody tr th:only-of-type {\n",
              "        vertical-align: middle;\n",
              "    }\n",
              "\n",
              "    .dataframe tbody tr th {\n",
              "        vertical-align: top;\n",
              "    }\n",
              "\n",
              "    .dataframe thead th {\n",
              "        text-align: right;\n",
              "    }\n",
              "</style>\n",
              "<table border=\"1\" class=\"dataframe\">\n",
              "  <thead>\n",
              "    <tr style=\"text-align: right;\">\n",
              "      <th></th>\n",
              "      <th>name</th>\n",
              "      <th>p_n</th>\n",
              "      <th>precision</th>\n",
              "    </tr>\n",
              "  </thead>\n",
              "  <tbody>\n",
              "    <tr>\n",
              "      <th>0</th>\n",
              "      <td>D1</td>\n",
              "      <td>1</td>\n",
              "      <td>1.000000</td>\n",
              "    </tr>\n",
              "    <tr>\n",
              "      <th>1</th>\n",
              "      <td>D2</td>\n",
              "      <td>1</td>\n",
              "      <td>1.000000</td>\n",
              "    </tr>\n",
              "    <tr>\n",
              "      <th>2</th>\n",
              "      <td>D3</td>\n",
              "      <td>1</td>\n",
              "      <td>1.000000</td>\n",
              "    </tr>\n",
              "    <tr>\n",
              "      <th>3</th>\n",
              "      <td>D4</td>\n",
              "      <td>1</td>\n",
              "      <td>1.000000</td>\n",
              "    </tr>\n",
              "    <tr>\n",
              "      <th>4</th>\n",
              "      <td>D5</td>\n",
              "      <td>0</td>\n",
              "      <td>0.800000</td>\n",
              "    </tr>\n",
              "    <tr>\n",
              "      <th>5</th>\n",
              "      <td>D6</td>\n",
              "      <td>1</td>\n",
              "      <td>0.833333</td>\n",
              "    </tr>\n",
              "    <tr>\n",
              "      <th>6</th>\n",
              "      <td>D7</td>\n",
              "      <td>0</td>\n",
              "      <td>0.714286</td>\n",
              "    </tr>\n",
              "  </tbody>\n",
              "</table>\n",
              "</div>\n",
              "      <button class=\"colab-df-convert\" onclick=\"convertToInteractive('df-f9fd6b3a-1adc-48ce-9469-4a53e2527ebf')\"\n",
              "              title=\"Convert this dataframe to an interactive table.\"\n",
              "              style=\"display:none;\">\n",
              "        \n",
              "  <svg xmlns=\"http://www.w3.org/2000/svg\" height=\"24px\"viewBox=\"0 0 24 24\"\n",
              "       width=\"24px\">\n",
              "    <path d=\"M0 0h24v24H0V0z\" fill=\"none\"/>\n",
              "    <path d=\"M18.56 5.44l.94 2.06.94-2.06 2.06-.94-2.06-.94-.94-2.06-.94 2.06-2.06.94zm-11 1L8.5 8.5l.94-2.06 2.06-.94-2.06-.94L8.5 2.5l-.94 2.06-2.06.94zm10 10l.94 2.06.94-2.06 2.06-.94-2.06-.94-.94-2.06-.94 2.06-2.06.94z\"/><path d=\"M17.41 7.96l-1.37-1.37c-.4-.4-.92-.59-1.43-.59-.52 0-1.04.2-1.43.59L10.3 9.45l-7.72 7.72c-.78.78-.78 2.05 0 2.83L4 21.41c.39.39.9.59 1.41.59.51 0 1.02-.2 1.41-.59l7.78-7.78 2.81-2.81c.8-.78.8-2.07 0-2.86zM5.41 20L4 18.59l7.72-7.72 1.47 1.35L5.41 20z\"/>\n",
              "  </svg>\n",
              "      </button>\n",
              "      \n",
              "  <style>\n",
              "    .colab-df-container {\n",
              "      display:flex;\n",
              "      flex-wrap:wrap;\n",
              "      gap: 12px;\n",
              "    }\n",
              "\n",
              "    .colab-df-convert {\n",
              "      background-color: #E8F0FE;\n",
              "      border: none;\n",
              "      border-radius: 50%;\n",
              "      cursor: pointer;\n",
              "      display: none;\n",
              "      fill: #1967D2;\n",
              "      height: 32px;\n",
              "      padding: 0 0 0 0;\n",
              "      width: 32px;\n",
              "    }\n",
              "\n",
              "    .colab-df-convert:hover {\n",
              "      background-color: #E2EBFA;\n",
              "      box-shadow: 0px 1px 2px rgba(60, 64, 67, 0.3), 0px 1px 3px 1px rgba(60, 64, 67, 0.15);\n",
              "      fill: #174EA6;\n",
              "    }\n",
              "\n",
              "    [theme=dark] .colab-df-convert {\n",
              "      background-color: #3B4455;\n",
              "      fill: #D2E3FC;\n",
              "    }\n",
              "\n",
              "    [theme=dark] .colab-df-convert:hover {\n",
              "      background-color: #434B5C;\n",
              "      box-shadow: 0px 1px 3px 1px rgba(0, 0, 0, 0.15);\n",
              "      filter: drop-shadow(0px 1px 2px rgba(0, 0, 0, 0.3));\n",
              "      fill: #FFFFFF;\n",
              "    }\n",
              "  </style>\n",
              "\n",
              "      <script>\n",
              "        const buttonEl =\n",
              "          document.querySelector('#df-f9fd6b3a-1adc-48ce-9469-4a53e2527ebf button.colab-df-convert');\n",
              "        buttonEl.style.display =\n",
              "          google.colab.kernel.accessAllowed ? 'block' : 'none';\n",
              "\n",
              "        async function convertToInteractive(key) {\n",
              "          const element = document.querySelector('#df-f9fd6b3a-1adc-48ce-9469-4a53e2527ebf');\n",
              "          const dataTable =\n",
              "            await google.colab.kernel.invokeFunction('convertToInteractive',\n",
              "                                                     [key], {});\n",
              "          if (!dataTable) return;\n",
              "\n",
              "          const docLinkHtml = 'Like what you see? Visit the ' +\n",
              "            '<a target=\"_blank\" href=https://colab.research.google.com/notebooks/data_table.ipynb>data table notebook</a>'\n",
              "            + ' to learn more about interactive tables.';\n",
              "          element.innerHTML = '';\n",
              "          dataTable['output_type'] = 'display_data';\n",
              "          await google.colab.output.renderOutput(dataTable, element);\n",
              "          const docLink = document.createElement('div');\n",
              "          docLink.innerHTML = docLinkHtml;\n",
              "          element.appendChild(docLink);\n",
              "        }\n",
              "      </script>\n",
              "    </div>\n",
              "  </div>\n",
              "  "
            ]
          },
          "metadata": {},
          "execution_count": 206
        }
      ]
    },
    {
      "cell_type": "code",
      "source": [
        "recall = []\n",
        "\n",
        "count = 0\n",
        "positive_count= 0\n",
        "for i in df.p_n:\n",
        "  if i == 1:\n",
        "    positive_count+=1\n",
        "    recall.append(positive_count/recall_thresh)\n",
        "  else :\n",
        "    recall.append(positive_count/recall_thresh)\n",
        "\n",
        "df['recall'] = recall"
      ],
      "metadata": {
        "id": "SkTHxIo2M4hK"
      },
      "execution_count": null,
      "outputs": []
    },
    {
      "cell_type": "code",
      "source": [
        "df"
      ],
      "metadata": {
        "colab": {
          "base_uri": "https://localhost:8080/",
          "height": 269
        },
        "id": "Y_gBhyKlNIGr",
        "outputId": "0dbfc15d-88f1-414d-abe9-810f0f0aa7c9"
      },
      "execution_count": null,
      "outputs": [
        {
          "output_type": "execute_result",
          "data": {
            "text/plain": [
              "  name  p_n  precision  recall\n",
              "0   D1    1   1.000000     0.2\n",
              "1   D2    1   1.000000     0.4\n",
              "2   D3    1   1.000000     0.6\n",
              "3   D4    1   1.000000     0.8\n",
              "4   D5    0   0.800000     0.8\n",
              "5   D6    1   0.833333     1.0\n",
              "6   D7    0   0.714286     1.0"
            ],
            "text/html": [
              "\n",
              "  <div id=\"df-e252b327-f264-42c7-97e9-2eb4968bd3ea\">\n",
              "    <div class=\"colab-df-container\">\n",
              "      <div>\n",
              "<style scoped>\n",
              "    .dataframe tbody tr th:only-of-type {\n",
              "        vertical-align: middle;\n",
              "    }\n",
              "\n",
              "    .dataframe tbody tr th {\n",
              "        vertical-align: top;\n",
              "    }\n",
              "\n",
              "    .dataframe thead th {\n",
              "        text-align: right;\n",
              "    }\n",
              "</style>\n",
              "<table border=\"1\" class=\"dataframe\">\n",
              "  <thead>\n",
              "    <tr style=\"text-align: right;\">\n",
              "      <th></th>\n",
              "      <th>name</th>\n",
              "      <th>p_n</th>\n",
              "      <th>precision</th>\n",
              "      <th>recall</th>\n",
              "    </tr>\n",
              "  </thead>\n",
              "  <tbody>\n",
              "    <tr>\n",
              "      <th>0</th>\n",
              "      <td>D1</td>\n",
              "      <td>1</td>\n",
              "      <td>1.000000</td>\n",
              "      <td>0.2</td>\n",
              "    </tr>\n",
              "    <tr>\n",
              "      <th>1</th>\n",
              "      <td>D2</td>\n",
              "      <td>1</td>\n",
              "      <td>1.000000</td>\n",
              "      <td>0.4</td>\n",
              "    </tr>\n",
              "    <tr>\n",
              "      <th>2</th>\n",
              "      <td>D3</td>\n",
              "      <td>1</td>\n",
              "      <td>1.000000</td>\n",
              "      <td>0.6</td>\n",
              "    </tr>\n",
              "    <tr>\n",
              "      <th>3</th>\n",
              "      <td>D4</td>\n",
              "      <td>1</td>\n",
              "      <td>1.000000</td>\n",
              "      <td>0.8</td>\n",
              "    </tr>\n",
              "    <tr>\n",
              "      <th>4</th>\n",
              "      <td>D5</td>\n",
              "      <td>0</td>\n",
              "      <td>0.800000</td>\n",
              "      <td>0.8</td>\n",
              "    </tr>\n",
              "    <tr>\n",
              "      <th>5</th>\n",
              "      <td>D6</td>\n",
              "      <td>1</td>\n",
              "      <td>0.833333</td>\n",
              "      <td>1.0</td>\n",
              "    </tr>\n",
              "    <tr>\n",
              "      <th>6</th>\n",
              "      <td>D7</td>\n",
              "      <td>0</td>\n",
              "      <td>0.714286</td>\n",
              "      <td>1.0</td>\n",
              "    </tr>\n",
              "  </tbody>\n",
              "</table>\n",
              "</div>\n",
              "      <button class=\"colab-df-convert\" onclick=\"convertToInteractive('df-e252b327-f264-42c7-97e9-2eb4968bd3ea')\"\n",
              "              title=\"Convert this dataframe to an interactive table.\"\n",
              "              style=\"display:none;\">\n",
              "        \n",
              "  <svg xmlns=\"http://www.w3.org/2000/svg\" height=\"24px\"viewBox=\"0 0 24 24\"\n",
              "       width=\"24px\">\n",
              "    <path d=\"M0 0h24v24H0V0z\" fill=\"none\"/>\n",
              "    <path d=\"M18.56 5.44l.94 2.06.94-2.06 2.06-.94-2.06-.94-.94-2.06-.94 2.06-2.06.94zm-11 1L8.5 8.5l.94-2.06 2.06-.94-2.06-.94L8.5 2.5l-.94 2.06-2.06.94zm10 10l.94 2.06.94-2.06 2.06-.94-2.06-.94-.94-2.06-.94 2.06-2.06.94z\"/><path d=\"M17.41 7.96l-1.37-1.37c-.4-.4-.92-.59-1.43-.59-.52 0-1.04.2-1.43.59L10.3 9.45l-7.72 7.72c-.78.78-.78 2.05 0 2.83L4 21.41c.39.39.9.59 1.41.59.51 0 1.02-.2 1.41-.59l7.78-7.78 2.81-2.81c.8-.78.8-2.07 0-2.86zM5.41 20L4 18.59l7.72-7.72 1.47 1.35L5.41 20z\"/>\n",
              "  </svg>\n",
              "      </button>\n",
              "      \n",
              "  <style>\n",
              "    .colab-df-container {\n",
              "      display:flex;\n",
              "      flex-wrap:wrap;\n",
              "      gap: 12px;\n",
              "    }\n",
              "\n",
              "    .colab-df-convert {\n",
              "      background-color: #E8F0FE;\n",
              "      border: none;\n",
              "      border-radius: 50%;\n",
              "      cursor: pointer;\n",
              "      display: none;\n",
              "      fill: #1967D2;\n",
              "      height: 32px;\n",
              "      padding: 0 0 0 0;\n",
              "      width: 32px;\n",
              "    }\n",
              "\n",
              "    .colab-df-convert:hover {\n",
              "      background-color: #E2EBFA;\n",
              "      box-shadow: 0px 1px 2px rgba(60, 64, 67, 0.3), 0px 1px 3px 1px rgba(60, 64, 67, 0.15);\n",
              "      fill: #174EA6;\n",
              "    }\n",
              "\n",
              "    [theme=dark] .colab-df-convert {\n",
              "      background-color: #3B4455;\n",
              "      fill: #D2E3FC;\n",
              "    }\n",
              "\n",
              "    [theme=dark] .colab-df-convert:hover {\n",
              "      background-color: #434B5C;\n",
              "      box-shadow: 0px 1px 3px 1px rgba(0, 0, 0, 0.15);\n",
              "      filter: drop-shadow(0px 1px 2px rgba(0, 0, 0, 0.3));\n",
              "      fill: #FFFFFF;\n",
              "    }\n",
              "  </style>\n",
              "\n",
              "      <script>\n",
              "        const buttonEl =\n",
              "          document.querySelector('#df-e252b327-f264-42c7-97e9-2eb4968bd3ea button.colab-df-convert');\n",
              "        buttonEl.style.display =\n",
              "          google.colab.kernel.accessAllowed ? 'block' : 'none';\n",
              "\n",
              "        async function convertToInteractive(key) {\n",
              "          const element = document.querySelector('#df-e252b327-f264-42c7-97e9-2eb4968bd3ea');\n",
              "          const dataTable =\n",
              "            await google.colab.kernel.invokeFunction('convertToInteractive',\n",
              "                                                     [key], {});\n",
              "          if (!dataTable) return;\n",
              "\n",
              "          const docLinkHtml = 'Like what you see? Visit the ' +\n",
              "            '<a target=\"_blank\" href=https://colab.research.google.com/notebooks/data_table.ipynb>data table notebook</a>'\n",
              "            + ' to learn more about interactive tables.';\n",
              "          element.innerHTML = '';\n",
              "          dataTable['output_type'] = 'display_data';\n",
              "          await google.colab.output.renderOutput(dataTable, element);\n",
              "          const docLink = document.createElement('div');\n",
              "          docLink.innerHTML = docLinkHtml;\n",
              "          element.appendChild(docLink);\n",
              "        }\n",
              "      </script>\n",
              "    </div>\n",
              "  </div>\n",
              "  "
            ]
          },
          "metadata": {},
          "execution_count": 208
        }
      ]
    },
    {
      "cell_type": "code",
      "source": [],
      "metadata": {
        "id": "h4C7dtMdNIsq"
      },
      "execution_count": null,
      "outputs": []
    }
  ]
}